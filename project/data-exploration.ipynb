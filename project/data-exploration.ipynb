{
 "cells": [
  {
   "attachments": {},
   "cell_type": "markdown",
   "metadata": {},
   "source": [
    "# Data Exploration\n",
    "\n",
    "In this notebook describe your data exploration steps."
   ]
  },
  {
   "attachments": {},
   "cell_type": "markdown",
   "metadata": {},
   "source": [
    "## Install dependencies"
   ]
  },
  {
   "cell_type": "code",
   "execution_count": 2,
   "metadata": {},
   "outputs": [
    {
     "name": "stdout",
     "output_type": "stream",
     "text": [
      "Requirement already satisfied: pandas in c:\\users\\asus\\anaconda3\\envs\\data_engineering\\lib\\site-packages (2.2.1)\n",
      "Requirement already satisfied: numpy<2,>=1.23.2 in c:\\users\\asus\\anaconda3\\envs\\data_engineering\\lib\\site-packages (from pandas) (1.26.4)\n",
      "Requirement already satisfied: python-dateutil>=2.8.2 in c:\\users\\asus\\anaconda3\\envs\\data_engineering\\lib\\site-packages (from pandas) (2.8.2)\n",
      "Requirement already satisfied: pytz>=2020.1 in c:\\users\\asus\\anaconda3\\envs\\data_engineering\\lib\\site-packages (from pandas) (2024.1)\n",
      "Requirement already satisfied: tzdata>=2022.7 in c:\\users\\asus\\anaconda3\\envs\\data_engineering\\lib\\site-packages (from pandas) (2023.3)\n",
      "Requirement already satisfied: six>=1.5 in c:\\users\\asus\\anaconda3\\envs\\data_engineering\\lib\\site-packages (from python-dateutil>=2.8.2->pandas) (1.16.0)\n",
      "Note: you may need to restart the kernel to use updated packages.\n",
      "Note: you may need to restart the kernel to use updated packages.\n"
     ]
    },
    {
     "name": "stderr",
     "output_type": "stream",
     "text": [
      "ERROR: Invalid requirement: \"'SQLAlchemy==1.4.46'\"\n"
     ]
    }
   ],
   "source": [
    "%pip install pandas\n",
    "%pip install 'SQLAlchemy==1.4.46'"
   ]
  },
  {
   "cell_type": "markdown",
   "metadata": {},
   "source": [
    "# Import Modules\n",
    "\n",
    "importing all the needed python libraries.\n"
   ]
  },
  {
   "cell_type": "code",
   "execution_count": 2,
   "metadata": {},
   "outputs": [],
   "source": [
    "import subprocess\n",
    "import zipfile\n",
    "import os\n",
    "import shutil\n",
    "import pandas as pd\n",
    "import sqlite3\n",
    "import requests\n",
    "from io import StringIO\n",
    "import matplotlib.pyplot as plt\n",
    "import plotly.graph_objs as go\n",
    "from plotly.offline import iplot"
   ]
  },
  {
   "attachments": {},
   "cell_type": "markdown",
   "metadata": {},
   "source": [
    "## Download datasets"
   ]
  },
  {
   "cell_type": "code",
   "execution_count": 6,
   "metadata": {},
   "outputs": [],
   "source": [
    "datasets = [\n",
    "    {\"dataset\": \"berkeleyearth/climate-change-earth-surface-temperature-data\", \"file\": \"GlobalLandTemperaturesByCountry.csv\"},\n",
    "    {\"dataset\": \"unitednations/global-food-agriculture-statistics\", \"file\": \"fao_data_crops_data.csv\"}\n",
    "]\n",
    "\n",
    "\n",
    "# Function to download datasets from Kaggle\n",
    "def download_datasets():\n",
    "    for ds in datasets:\n",
    "        os.system(f\"kaggle datasets download -d {ds['dataset']} -p /tmp\")\n",
    "        os.system(f\"unzip -o /tmp/{ds['dataset'].split('/')[-1]}.zip -d /tmp\")\n",
    "download_datasets()\n",
    "\n"
   ]
  },
  {
   "attachments": {},
   "cell_type": "markdown",
   "metadata": {},
   "source": [
    "### Look at the first table data"
   ]
  },
  {
   "cell_type": "code",
   "execution_count": 10,
   "metadata": {},
   "outputs": [
    {
     "name": "stdout",
     "output_type": "stream",
     "text": [
      "<bound method NDFrame.head of                 dt  AverageTemperature  AverageTemperatureUncertainty  \\\n",
      "0       1743-11-01               4.384                          2.294   \n",
      "1       1743-12-01                 NaN                            NaN   \n",
      "2       1744-01-01                 NaN                            NaN   \n",
      "3       1744-02-01                 NaN                            NaN   \n",
      "4       1744-03-01                 NaN                            NaN   \n",
      "...            ...                 ...                            ...   \n",
      "577457  2013-05-01              19.059                          1.022   \n",
      "577458  2013-06-01              17.613                          0.473   \n",
      "577459  2013-07-01              17.000                          0.453   \n",
      "577460  2013-08-01              19.759                          0.717   \n",
      "577461  2013-09-01                 NaN                            NaN   \n",
      "\n",
      "         Country  \n",
      "0          Åland  \n",
      "1          Åland  \n",
      "2          Åland  \n",
      "3          Åland  \n",
      "4          Åland  \n",
      "...          ...  \n",
      "577457  Zimbabwe  \n",
      "577458  Zimbabwe  \n",
      "577459  Zimbabwe  \n",
      "577460  Zimbabwe  \n",
      "577461  Zimbabwe  \n",
      "\n",
      "[577462 rows x 4 columns]>\n",
      "<bound method NDFrame.head of        year         Country  average_yearly_temperature\n",
      "0      1962     Afghanistan                   13.768667\n",
      "1      1962          Africa                   24.194500\n",
      "2      1962         Albania                   13.068750\n",
      "3      1962         Algeria                   23.182417\n",
      "4      1962  American Samoa                   26.627667\n",
      "...     ...             ...                         ...\n",
      "12631  2013  Western Sahara                   23.744250\n",
      "12632  2013           Yemen                   28.129750\n",
      "12633  2013          Zambia                   21.196000\n",
      "12634  2013        Zimbabwe                   20.710750\n",
      "12635  2013           Åland                    6.229750\n",
      "\n",
      "[12636 rows x 3 columns]>\n"
     ]
    }
   ],
   "source": [
    "\n",
    "file_path = f\"/tmp/GlobalLandTemperaturesByCountry.csv\"\n",
    "df = pd.read_csv(file_path)\n",
    "print(df.head)\n",
    "\n",
    "  "
   ]
  },
  {
   "cell_type": "markdown",
   "metadata": {},
   "source": [
    "  ### Transformation of first table"
   ]
  },
  {
   "cell_type": "markdown",
   "metadata": {},
   "source": [
    "1. first remove NaN and columns with incomplete value \n",
    "2. change the format of dt column to datatime for better working with it\n",
    "3. taking the year value for comparison with other table since it is based on year\n",
    "4. filter the years more than 1961 since other table is only for the data above the given data\n",
    "5. drop the uncertainity column\n",
    "6. grouping the year and country to calculate the average tempreture of every country at the available years\n",
    "7. change the name of average temperature to average_yearly_temperature for better clarification"
   ]
  },
  {
   "cell_type": "code",
   "execution_count": 11,
   "metadata": {},
   "outputs": [
    {
     "name": "stdout",
     "output_type": "stream",
     "text": [
      "<bound method NDFrame.head of        year         Country  average_yearly_temperature\n",
      "0      1962     Afghanistan                   13.768667\n",
      "1      1962          Africa                   24.194500\n",
      "2      1962         Albania                   13.068750\n",
      "3      1962         Algeria                   23.182417\n",
      "4      1962  American Samoa                   26.627667\n",
      "...     ...             ...                         ...\n",
      "12631  2013  Western Sahara                   23.744250\n",
      "12632  2013           Yemen                   28.129750\n",
      "12633  2013          Zambia                   21.196000\n",
      "12634  2013        Zimbabwe                   20.710750\n",
      "12635  2013           Åland                    6.229750\n",
      "\n",
      "[12636 rows x 3 columns]>\n"
     ]
    }
   ],
   "source": [
    "\n",
    "df = df.dropna()\n",
    "    # Fix errors or apply any transformations as needed\n",
    " # Load the data\n",
    "  \n",
    "df = pd.read_csv(file_path)\n",
    "\n",
    "    # Convert the 'dt' column to datetime format\n",
    "df['dt'] = pd.to_datetime(df['dt'])\n",
    "\n",
    "    # Extract the year from the 'dt' column\n",
    "df['year'] = df['dt'].dt.year\n",
    "\n",
    "    # Filter the data to include only years greater than 1961\n",
    "df_filtered = df[df['year'] > 1961]\n",
    "\n",
    "    # Drop the 'AverageTemperatureUncertainty' column\n",
    "df_filtered = df_filtered.drop(columns=['AverageTemperatureUncertainty'])\n",
    "\n",
    "    # Group by year and country, then calculate the average temperature\n",
    "df_grouped = df_filtered.groupby(['year', 'Country'])['AverageTemperature'].mean().reset_index()\n",
    "\n",
    "    # Rename the columns for clarity\n",
    "df_grouped.rename(columns={'AverageTemperature': 'average_yearly_temperature'}, inplace=True)\n",
    "print(df_grouped.head)\n",
    "df_first = df_grouped"
   ]
  },
  {
   "cell_type": "markdown",
   "metadata": {},
   "source": [
    "### Look at the second table data\n"
   ]
  },
  {
   "cell_type": "code",
   "execution_count": 12,
   "metadata": {},
   "outputs": [
    {
     "name": "stdout",
     "output_type": "stream",
     "text": [
      "<bound method NDFrame.head of         country_or_area                                       element_code  \\\n",
      "0            Americas +                                                 31   \n",
      "1            Americas +                                                 31   \n",
      "2            Americas +                                                 31   \n",
      "3            Americas +                                                 31   \n",
      "4            Americas +                                                 31   \n",
      "...                 ...                                                ...   \n",
      "2255344              Fc                                    Calculated Data   \n",
      "2255345              A   May include official, semi-official or estimat...   \n",
      "2255346              NR                            Not reported by country   \n",
      "2255347              F                                        FAO Estimate   \n",
      "2255348              *                                   Unofficial figure   \n",
      "\n",
      "                element    year unit    value value_footnotes  \\\n",
      "0        Area Harvested  2007.0   Ha  49404.0              A    \n",
      "1        Area Harvested  2006.0   Ha  49404.0              A    \n",
      "2        Area Harvested  2005.0   Ha  49404.0              A    \n",
      "3        Area Harvested  2004.0   Ha  49113.0              A    \n",
      "4        Area Harvested  2003.0   Ha  48559.0              A    \n",
      "...                 ...     ...  ...      ...             ...   \n",
      "2255344             NaN     NaN  NaN      NaN             NaN   \n",
      "2255345             NaN     NaN  NaN      NaN             NaN   \n",
      "2255346             NaN     NaN  NaN      NaN             NaN   \n",
      "2255347             NaN     NaN  NaN      NaN             NaN   \n",
      "2255348             NaN     NaN  NaN      NaN             NaN   \n",
      "\n",
      "                 category  \n",
      "0        agave_fibres_nes  \n",
      "1        agave_fibres_nes  \n",
      "2        agave_fibres_nes  \n",
      "3        agave_fibres_nes  \n",
      "4        agave_fibres_nes  \n",
      "...                   ...  \n",
      "2255344    yautia_cocoyam  \n",
      "2255345    yautia_cocoyam  \n",
      "2255346    yautia_cocoyam  \n",
      "2255347    yautia_cocoyam  \n",
      "2255348    yautia_cocoyam  \n",
      "\n",
      "[2255349 rows x 8 columns]>\n"
     ]
    }
   ],
   "source": [
    "\n",
    "file_path = f\"/tmp/fao_data_crops_data.csv\"\n",
    "df = pd.read_csv(file_path)\n",
    "print(df.head)"
   ]
  },
  {
   "cell_type": "markdown",
   "metadata": {},
   "source": [
    "### Info about the transformation\n",
    "\n",
    "1. Droping the NaN values\n",
    "2. checking the unique elements so that we can find the good value to messure the difference\n",
    "3. choosing the most suitable elemnt which is the yield through hg/ha unit. \n",
    "4.Droping the useless elements"
   ]
  },
  {
   "cell_type": "code",
   "execution_count": 26,
   "metadata": {},
   "outputs": [
    {
     "name": "stdout",
     "output_type": "stream",
     "text": [
      "['Area Harvested' 'Yield' 'Production Quantity' 'Seed'\n",
      " 'Gross Production 1999-2001 (1000 I$)'\n",
      " 'Net Production 1999-2001 (1000 I$)' 'Gross PIN (base 1999-2001)'\n",
      " 'Grs per capita PIN (base 1999-2001)' 'Net PIN (base 1999-2001)'\n",
      " 'Net per capita PIN (base 1999-2001)']\n",
      "['Ha' 'Hg/Ha' 'tonnes' '1000 Int. $' 'Int. $']\n",
      "['Hg/Ha']\n",
      "['Yield']\n",
      "<bound method NDFrame.head of         country_or_area element    year   unit    value          category\n",
      "47           Americas +   Yield  2007.0  Hg/Ha  10921.0  agave_fibres_nes\n",
      "48           Americas +   Yield  2006.0  Hg/Ha  10921.0  agave_fibres_nes\n",
      "49           Americas +   Yield  2005.0  Hg/Ha  10921.0  agave_fibres_nes\n",
      "50           Americas +   Yield  2004.0  Hg/Ha  11188.0  agave_fibres_nes\n",
      "51           Americas +   Yield  2003.0  Hg/Ha  10842.0  agave_fibres_nes\n",
      "...                 ...     ...     ...    ...      ...               ...\n",
      "2255291         World +   Yield  1965.0  Hg/Ha  51952.0    yautia_cocoyam\n",
      "2255292         World +   Yield  1964.0  Hg/Ha  51386.0    yautia_cocoyam\n",
      "2255293         World +   Yield  1963.0  Hg/Ha  51050.0    yautia_cocoyam\n",
      "2255294         World +   Yield  1962.0  Hg/Ha  51878.0    yautia_cocoyam\n",
      "2255295         World +   Yield  1961.0  Hg/Ha  50748.0    yautia_cocoyam\n",
      "\n",
      "[615683 rows x 6 columns]>\n"
     ]
    }
   ],
   "source": [
    "df = pd.read_csv(file_path)\n",
    "    # Example transformation: drop missing values\n",
    "df = df.dropna()\n",
    "    # Fix errors or apply any transformations as needed\n",
    "\n",
    "    #Listing the units and ways of estimating crops\n",
    "print(df['element'].unique())\n",
    "print(df['unit'].unique())\n",
    "\n",
    "filtered_df_check = df[df['element'] == 'Yield']\n",
    "print(filtered_df_check['unit'].unique())\n",
    "    # Define the values you need in 'column2'\n",
    "values_needed = ['Hg/Ha']\n",
    "\n",
    "    # Filter the DataFrame\n",
    "filtered_df = df[df['unit'].isin(values_needed)]\n",
    "print(filtered_df['element'].unique())\n",
    "    # Columns to drop\n",
    "columns_to_drop = ['element_code', 'value_footnotes']\n",
    "\n",
    "    # Drop the specified columns\n",
    "df_dropped = filtered_df.drop(columns=columns_to_drop)\n",
    "df_second = df_dropped\n",
    "print(df_second.head)\n",
    "    # print(df_dropped)"
   ]
  },
  {
   "cell_type": "markdown",
   "metadata": {},
   "source": [
    "### Merging tables\n",
    "Merging two tables based on date and country with inner join"
   ]
  },
  {
   "cell_type": "code",
   "execution_count": null,
   "metadata": {},
   "outputs": [],
   "source": [
    "# Merge DataFrames\n",
    "result = pd.merge(df_first, df_second, left_on=['country_or_area', 'year'], right_on=['Country', 'year'])\n",
    "\n",
    "print(result)\n"
   ]
  },
  {
   "attachments": {},
   "cell_type": "markdown",
   "metadata": {},
   "source": [
    "### Data exploration\n",
    "Print some basic information about the data. Your data exploration would continue here."
   ]
  },
  {
   "cell_type": "markdown",
   "metadata": {},
   "source": []
  },
  {
   "cell_type": "markdown",
   "metadata": {},
   "source": []
  },
  {
   "cell_type": "code",
   "execution_count": 6,
   "metadata": {},
   "outputs": [
    {
     "name": "stdout",
     "output_type": "stream",
     "text": [
      "<class 'pandas.core.frame.DataFrame'>\n",
      "RangeIndex: 6519 entries, 0 to 6518\n",
      "Data columns (total 10 columns):\n",
      " #   Column          Non-Null Count  Dtype  \n",
      "---  ------          --------------  -----  \n",
      " 0   EVA_NR          6519 non-null   int64  \n",
      " 1   DS100           6519 non-null   object \n",
      " 2   IFOPT           6512 non-null   object \n",
      " 3   NAME            6519 non-null   object \n",
      " 4   Verkehr         6519 non-null   object \n",
      " 5   Laenge          6519 non-null   float64\n",
      " 6   Breite          6519 non-null   float64\n",
      " 7   Betreiber_Name  6517 non-null   object \n",
      " 8   Betreiber_Nr    5395 non-null   float64\n",
      " 9   Status          24 non-null     object \n",
      "dtypes: float64(3), int64(1), object(6)\n",
      "memory usage: 509.4+ KB\n"
     ]
    },
    {
     "data": {
      "text/plain": [
       "array(['neu', None], dtype=object)"
      ]
     },
     "execution_count": 6,
     "metadata": {},
     "output_type": "execute_result"
    }
   ],
   "source": [
    "df.info()\n",
    "\n",
    "df['Status'].unique()"
   ]
  }
 ],
 "metadata": {
  "kernelspec": {
   "display_name": "Python 3",
   "language": "python",
   "name": "python3"
  },
  "language_info": {
   "codemirror_mode": {
    "name": "ipython",
    "version": 3
   },
   "file_extension": ".py",
   "mimetype": "text/x-python",
   "name": "python",
   "nbconvert_exporter": "python",
   "pygments_lexer": "ipython3",
   "version": "3.11.9"
  },
  "orig_nbformat": 4
 },
 "nbformat": 4,
 "nbformat_minor": 2
}
